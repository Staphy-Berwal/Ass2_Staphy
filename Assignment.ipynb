{
 "cells": [
  {
   "cell_type": "code",
   "execution_count": 1,
   "id": "8acb996e",
   "metadata": {},
   "outputs": [],
   "source": [
    "# Importing necessary libraries\n",
    "import pandas as pd\n",
    "import numpy as np\n",
    "from sklearn.preprocessing import LabelEncoder\n",
    "from sklearn.model_selection import train_test_split\n",
    "from sklearn.ensemble import RandomForestClassifier\n",
    "from sklearn.metrics import classification_report, roc_auc_score\n",
    "from imblearn.over_sampling import SMOTE\n",
    "from imblearn.under_sampling import RandomUnderSampler\n",
    "from imblearn.combine import SMOTEENN\n",
    "from imblearn.under_sampling import TomekLinks\n",
    "from sklearn.utils.class_weight import compute_class_weight \n",
    "from imblearn.over_sampling import SMOTE\n",
    "from imblearn.under_sampling import RandomUnderSampler\n",
    "from imblearn.combine import SMOTEENN\n",
    "from imblearn.under_sampling import TomekLinks\n",
    "from sklearn.utils.class_weight import compute_class_weight\n",
    "df=pd.read_csv(\"weatherAUS.csv\")"
   ]
  },
  {
   "cell_type": "code",
   "execution_count": 2,
   "id": "55c35783",
   "metadata": {},
   "outputs": [
    {
     "data": {
      "text/plain": [
       "Date                 0\n",
       "Location             0\n",
       "MinTemp           1485\n",
       "MaxTemp           1261\n",
       "Rainfall          3261\n",
       "Evaporation      62790\n",
       "Sunshine         69835\n",
       "WindGustDir      10326\n",
       "WindGustSpeed    10263\n",
       "WindDir9am       10566\n",
       "WindDir3pm        4228\n",
       "WindSpeed9am      1767\n",
       "WindSpeed3pm      3062\n",
       "Humidity9am       2654\n",
       "Humidity3pm       4507\n",
       "Pressure9am      15065\n",
       "Pressure3pm      15028\n",
       "Cloud9am         55888\n",
       "Cloud3pm         59358\n",
       "Temp9am           1767\n",
       "Temp3pm           3609\n",
       "RainToday         3261\n",
       "RainTomorrow      3267\n",
       "dtype: int64"
      ]
     },
     "execution_count": 2,
     "metadata": {},
     "output_type": "execute_result"
    }
   ],
   "source": [
    "df.isnull().sum()"
   ]
  },
  {
   "cell_type": "code",
   "execution_count": 3,
   "id": "87a38eb3",
   "metadata": {},
   "outputs": [],
   "source": [
    "df=df.dropna()"
   ]
  },
  {
   "cell_type": "code",
   "execution_count": 4,
   "id": "69ed929d",
   "metadata": {},
   "outputs": [],
   "source": [
    "df=df.drop(columns=['Date'])"
   ]
  },
  {
   "cell_type": "code",
   "execution_count": 5,
   "id": "9c3a43ad",
   "metadata": {},
   "outputs": [],
   "source": [
    "label_encoder = LabelEncoder()\n",
    "df['Location'] = label_encoder.fit_transform(df['Location'])\n",
    "df['WindGustDir'] = label_encoder.fit_transform(df['WindGustDir'])\n",
    "df['WindDir9am'] = label_encoder.fit_transform(df['WindDir9am'])\n",
    "df['WindDir3pm'] = label_encoder.fit_transform(df['WindDir3pm'])\n",
    "df['RainToday'] = label_encoder.fit_transform(df['RainToday'])\n",
    "df['RainTomorrow'] = label_encoder.fit_transform(df['RainTomorrow'])\n",
    "df['Evaporation'] = label_encoder.fit_transform(df['Evaporation'])"
   ]
  },
  {
   "cell_type": "code",
   "execution_count": 6,
   "id": "0c2807dd",
   "metadata": {},
   "outputs": [],
   "source": [
    "df=df.drop(columns=['Sunshine', 'Cloud9am', 'Cloud3pm'])"
   ]
  },
  {
   "cell_type": "code",
   "execution_count": 10,
   "id": "ad898048",
   "metadata": {},
   "outputs": [],
   "source": [
    "from collections import Counter"
   ]
  },
  {
   "cell_type": "code",
   "execution_count": 8,
   "id": "7aeb4ce5",
   "metadata": {},
   "outputs": [],
   "source": [
    "X = df.drop('RainTomorrow', axis=1)\n",
    "y = df['RainTomorrow']\n",
    "\n",
    "# Split into training and testing sets\n",
    "X_train, X_test, y_train, y_test = train_test_split(X, y, test_size=0.2, random_state=42) "
   ]
  },
  {
   "cell_type": "code",
   "execution_count": 13,
   "id": "9e9752f8",
   "metadata": {},
   "outputs": [
    {
     "name": "stdout",
     "output_type": "stream",
     "text": [
      "Original class distribution: Counter({0: 35194, 1: 9942})\n",
      "Original class distribution: Counter({0: 9942, 1: 9942})\n"
     ]
    }
   ],
   "source": [
    "# Random Under Sampling\n",
    "print(\"Original class distribution:\", Counter(y_train))\n",
    "rus = RandomUnderSampler(random_state=42)\n",
    "X_rus, y_rus = rus.fit_resample(X_train, y_train) \n",
    "print(\"Original class distribution:\", Counter(y_rus))"
   ]
  },
  {
   "cell_type": "code",
   "execution_count": 12,
   "id": "2ac313f2",
   "metadata": {},
   "outputs": [
    {
     "name": "stdout",
     "output_type": "stream",
     "text": [
      "Original class distribution: Counter({0: 35194, 1: 9942})\n",
      "Original class distribution: Counter({0: 35194, 1: 35194})\n"
     ]
    }
   ],
   "source": [
    "# Random Over Sampling\n",
    "from imblearn.over_sampling import RandomOverSampler\n",
    "print(\"Original class distribution:\", Counter(y_train))\n",
    "ros = RandomOverSampler(random_state=42)\n",
    "X_ros, y_ros = ros.fit_resample(X_train, y_train) \n",
    "print(\"Original class distribution:\", Counter(y_ros))"
   ]
  },
  {
   "cell_type": "code",
   "execution_count": 14,
   "id": "0e6c3b7d",
   "metadata": {},
   "outputs": [
    {
     "name": "stdout",
     "output_type": "stream",
     "text": [
      "Original class distribution: Counter({0: 35194, 1: 9942})\n",
      "Original class distribution: Counter({0: 35194, 1: 35194})\n"
     ]
    }
   ],
   "source": [
    "# SMOTE(Synthetic Minority Oversampling Technique)\n",
    "print(\"Original class distribution:\", Counter(y_train))\n",
    "smote = SMOTE(random_state=42)\n",
    "X_smote, y_smote = smote.fit_resample(X_train, y_train)\n",
    "print(\"Original class distribution:\", Counter(y_smote))"
   ]
  },
  {
   "cell_type": "code",
   "execution_count": 15,
   "id": "15eeffb3",
   "metadata": {},
   "outputs": [],
   "source": [
    "# Tomek Links\n",
    "tl = TomekLinks()\n",
    "X_tl, y_tl = tl.fit_resample(X_train, y_train) "
   ]
  },
  {
   "cell_type": "code",
   "execution_count": 16,
   "id": "e4c319dc",
   "metadata": {},
   "outputs": [
    {
     "data": {
      "text/plain": [
       "array([0.64124567, 2.2699658 ])"
      ]
     },
     "execution_count": 16,
     "metadata": {},
     "output_type": "execute_result"
    }
   ],
   "source": [
    "# Class Weights\n",
    "class_weights = compute_class_weight(class_weight='balanced', classes=np.unique(y_train), y=y_train)\n",
    "class_weights_dict = dict(enumerate(class_weights)) \n",
    "class_weights"
   ]
  },
  {
   "cell_type": "code",
   "execution_count": 17,
   "id": "28f19865",
   "metadata": {},
   "outputs": [],
   "source": [
    "# Function to evaluate model performance\n",
    "def evaluate_model(X_train, y_train, X_test, y_test, class_weights=None):\n",
    "    model = RandomForestClassifier(class_weight=class_weights, random_state=42)\n",
    "    model.fit(X_train, y_train)\n",
    "    y_pred = model.predict(X_test)\n",
    "    y_prob = model.predict_proba(X_test)[:, 1]\n",
    "    \n",
    "    print(classification_report(y_test, y_pred))\n",
    "    print(\"AUC:\", roc_auc_score(y_test, y_prob)) "
   ]
  },
  {
   "cell_type": "code",
   "execution_count": 18,
   "id": "6ade367e",
   "metadata": {},
   "outputs": [
    {
     "name": "stdout",
     "output_type": "stream",
     "text": [
      "Random Undersampling:\n",
      "              precision    recall  f1-score   support\n",
      "\n",
      "           0       0.93      0.80      0.86      8799\n",
      "           1       0.53      0.79      0.63      2485\n",
      "\n",
      "    accuracy                           0.80     11284\n",
      "   macro avg       0.73      0.79      0.75     11284\n",
      "weighted avg       0.84      0.80      0.81     11284\n",
      "\n",
      "AUC: 0.8785745956589635\n",
      "\n",
      "Random Oversampling:\n",
      "              precision    recall  f1-score   support\n",
      "\n",
      "           0       0.89      0.93      0.91      8799\n",
      "           1       0.70      0.58      0.64      2485\n",
      "\n",
      "    accuracy                           0.85     11284\n",
      "   macro avg       0.80      0.76      0.77     11284\n",
      "weighted avg       0.85      0.85      0.85     11284\n",
      "\n",
      "AUC: 0.8854549732764128\n",
      "\n",
      "SMOTE:\n",
      "              precision    recall  f1-score   support\n",
      "\n",
      "           0       0.90      0.90      0.90      8799\n",
      "           1       0.64      0.64      0.64      2485\n",
      "\n",
      "    accuracy                           0.84     11284\n",
      "   macro avg       0.77      0.77      0.77     11284\n",
      "weighted avg       0.84      0.84      0.84     11284\n",
      "\n",
      "AUC: 0.8803400468728957\n",
      "\n",
      "Class Weights:\n",
      "              precision    recall  f1-score   support\n",
      "\n",
      "           0       0.87      0.96      0.91      8799\n",
      "           1       0.79      0.48      0.60      2485\n",
      "\n",
      "    accuracy                           0.86     11284\n",
      "   macro avg       0.83      0.72      0.76     11284\n",
      "weighted avg       0.85      0.86      0.84     11284\n",
      "\n",
      "AUC: 0.8857869800917105\n"
     ]
    }
   ],
   "source": [
    "# Evaluate each sampling technique\n",
    "print(\"Random Undersampling:\")\n",
    "evaluate_model(X_rus, y_rus, X_test, y_test)\n",
    "\n",
    "print(\"\\nRandom Oversampling:\")\n",
    "evaluate_model(X_ros, y_ros, X_test, y_test)\n",
    "\n",
    "print(\"\\nSMOTE:\")\n",
    "evaluate_model(X_smote, y_smote, X_test, y_test)\n",
    "\n",
    "#print(\"\\nTomek Links:\")\n",
    "#evaluate_model(X_tl, y_tl, X_test, y_test)\n",
    "\n",
    "print(\"\\nClass Weights:\")\n",
    "evaluate_model(X_train, y_train, X_test, y_test, class_weights_dict) "
   ]
  }
 ],
 "metadata": {
  "kernelspec": {
   "display_name": "Python [conda env:ds_env] *",
   "language": "python",
   "name": "conda-env-ds_env-py"
  },
  "language_info": {
   "codemirror_mode": {
    "name": "ipython",
    "version": 3
   },
   "file_extension": ".py",
   "mimetype": "text/x-python",
   "name": "python",
   "nbconvert_exporter": "python",
   "pygments_lexer": "ipython3",
   "version": "3.12.4"
  }
 },
 "nbformat": 4,
 "nbformat_minor": 5
}
